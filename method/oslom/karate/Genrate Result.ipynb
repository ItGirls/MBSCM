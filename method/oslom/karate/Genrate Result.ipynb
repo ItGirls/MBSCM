{
 "cells": [
  {
   "cell_type": "code",
   "execution_count": 3,
   "metadata": {
    "collapsed": false
   },
   "outputs": [],
   "source": [
    "from os import listdir\n",
    "from os.path import isfile, join\n",
    "from sklearn.metrics import normalized_mutual_info_score"
   ]
  },
  {
   "cell_type": "code",
   "execution_count": 5,
   "metadata": {
    "collapsed": false
   },
   "outputs": [
    {
     "data": {
      "text/plain": [
       "[1,\n",
       " 1,\n",
       " 1,\n",
       " 1,\n",
       " 1,\n",
       " 1,\n",
       " 1,\n",
       " 1,\n",
       " 1,\n",
       " 2,\n",
       " 1,\n",
       " 1,\n",
       " 1,\n",
       " 1,\n",
       " 2,\n",
       " 2,\n",
       " 1,\n",
       " 1,\n",
       " 2,\n",
       " 1,\n",
       " 2,\n",
       " 1,\n",
       " 2,\n",
       " 2,\n",
       " 2,\n",
       " 2,\n",
       " 2,\n",
       " 2,\n",
       " 2,\n",
       " 2,\n",
       " 2,\n",
       " 2,\n",
       " 2,\n",
       " 2]"
      ]
     },
     "execution_count": 5,
     "metadata": {},
     "output_type": "execute_result"
    }
   ],
   "source": [
    "test_file = \"karate_metadata.txt\"\n",
    "with open(test_file) as f:\n",
    "    test_set = []\n",
    "    for line in f.readlines():\n",
    "        a, b = line.split()\n",
    "        b = int(b)\n",
    "        test_set.append(b)\n",
    "test_set"
   ]
  },
  {
   "cell_type": "code",
   "execution_count": 20,
   "metadata": {
    "collapsed": false
   },
   "outputs": [
    {
     "name": "stdout",
     "output_type": "stream",
     "text": [
      "['comm3', 'comm4', 'comm5']\n",
      "0.22776171119\n",
      "[3, 1, 1, 1, 3, 3, 3, 1, 1, 0, 3, 0, 1, 1, 1, 1, 3, 1, 1, 1, 1, 1, 0, 1, 2, 2, 1, 1, 1, 1, 1, 2, 1, 1]\n",
      "0.33707662446\n",
      "[3, 3, 3, 3, 3, 3, 3, 3, 2, 0, 3, 0, 1, 3, 1, 1, 3, 1, 1, 1, 1, 1, 0, 1, 2, 2, 1, 1, 1, 1, 2, 2, 2, 2]\n",
      "0.186169626583\n",
      "[1, 1, 1, 1, 3, 3, 3, 1, 2, 0, 3, 0, 1, 1, 1, 1, 3, 1, 1, 1, 1, 1, 0, 1, 2, 2, 1, 1, 1, 1, 2, 2, 2, 2]\n"
     ]
    }
   ],
   "source": [
    "onlyfiles = [ f for f in listdir('./') if 'comm' in f]\n",
    "train_set = [0] * len(test_set)\n",
    "print(onlyfiles)\n",
    "for file in onlyfiles:\n",
    "    \n",
    "    with open(file) as f:\n",
    "        now_label = 0\n",
    "        for line in f.readlines():\n",
    "            now_label += 1\n",
    "            node_list = line.split()\n",
    "            for node in node_list:\n",
    "                node = int(node)\n",
    "                train_set[node - 1] = now_label\n",
    "    print(normalized_mutual_info_score(test_set, train_set))\n",
    "    print(train_set)"
   ]
  },
  {
   "cell_type": "code",
   "execution_count": 6,
   "metadata": {
    "collapsed": false
   },
   "outputs": [
    {
     "data": {
      "text/plain": [
       "[0,\n",
       " 1,\n",
       " 1,\n",
       " 1,\n",
       " 1,\n",
       " 1,\n",
       " 1,\n",
       " 1,\n",
       " 1,\n",
       " 0,\n",
       " 0,\n",
       " 1,\n",
       " 1,\n",
       " 1,\n",
       " 1,\n",
       " 0,\n",
       " 0,\n",
       " 1,\n",
       " 1,\n",
       " 0,\n",
       " 1,\n",
       " 0,\n",
       " 1,\n",
       " 0,\n",
       " 0,\n",
       " 0,\n",
       " 0,\n",
       " 0,\n",
       " 0,\n",
       " 0,\n",
       " 0,\n",
       " 0,\n",
       " 0,\n",
       " 0,\n",
       " 0]"
      ]
     },
     "execution_count": 6,
     "metadata": {},
     "output_type": "execute_result"
    }
   ],
   "source": [
    "a = [3,9,10,15,16,19,21,23,24,25,26,27,28,29,30,31,32,33,34]\n",
    "b = [1,2,3,4,5,6,7,8,11,12,13,14,17,18,20,22]\n",
    "c = [0] * 35\n",
    "for i in range(1, 35):\n",
    "    if i in b:\n",
    "        c[i] = 1\n",
    "c"
   ]
  },
  {
   "cell_type": "code",
   "execution_count": 8,
   "metadata": {
    "collapsed": false
   },
   "outputs": [
    {
     "name": "stdout",
     "output_type": "stream",
     "text": [
      "0.837170117219\n"
     ]
    }
   ],
   "source": [
    "print(normalized_mutual_info_score(test_set, c[1:]))"
   ]
  }
 ],
 "metadata": {
  "kernelspec": {
   "display_name": "Python 3",
   "language": "python",
   "name": "python3"
  },
  "language_info": {
   "codemirror_mode": {
    "name": "ipython",
    "version": 3
   },
   "file_extension": ".py",
   "mimetype": "text/x-python",
   "name": "python",
   "nbconvert_exporter": "python",
   "pygments_lexer": "ipython3",
   "version": "3.5.2"
  }
 },
 "nbformat": 4,
 "nbformat_minor": 1
}
